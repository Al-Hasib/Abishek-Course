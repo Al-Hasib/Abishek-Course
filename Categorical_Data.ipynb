{
 "cells": [
  {
   "cell_type": "code",
   "execution_count": 1,
   "metadata": {},
   "outputs": [],
   "source": [
    "# df.column_name.value_counts()"
   ]
  },
  {
   "cell_type": "code",
   "execution_count": 18,
   "metadata": {},
   "outputs": [
    {
     "name": "stdout",
     "output_type": "stream",
     "text": [
      "['bin_0', 'bin_1', 'bin_2', 'bin_3', 'bin_4', 'nom_0', 'nom_1', 'nom_2', 'nom_3', 'nom_4', 'nom_5', 'nom_6', 'nom_7', 'nom_8', 'nom_9', 'ord_0', 'ord_1', 'ord_2', 'ord_3', 'ord_4', 'ord_5', 'day', 'month']\n",
      "   id  bin_0  bin_1  bin_2  bin_3  bin_4  nom_0  nom_1  nom_2  nom_3  ...  \\\n",
      "0   0      0      0      0      1      1      1      5      5      3  ...   \n",
      "1   1      0      1      0      1      1      1      4      3      5  ...   \n",
      "2   2      0      0      0      0      1      0      4      4      5  ...   \n",
      "3   3      0      1      0      0      1      2      4      5      0  ...   \n",
      "4   4      0      0      0      0      0      2      4      4      0  ...   \n",
      "\n",
      "   nom_9  ord_0  ord_1  ord_2  ord_3  ord_4  ord_5  day  month  target  \n",
      "0   2175      1      2      1      7      3    136    1      4       0  \n",
      "1  11635      0      2      3      0      0     93    6     10       0  \n",
      "2   8078      0      1      4      7     17     31    6      4       0  \n",
      "3   6056      0      2      0      8      3    134    1      0       1  \n",
      "4   8231      0      2      2      0     17    158    6     10       0  \n",
      "\n",
      "[5 rows x 25 columns]\n"
     ]
    }
   ],
   "source": [
    "from sklearn import preprocessing\n",
    "\"\"\"\n",
    "Label Encoding\n",
    "One Hot Encoding\n",
    "Binarization\n",
    "\n",
    "\"\"\"\n",
    "class categorical:\n",
    "    def __init__(self,df,categorical_feature,encoding_type,handle_na=False):\n",
    "        self.df = df\n",
    "        self.output_df = self.df.copy(deep = True)\n",
    "        self.categorical_feature = categorical_feature\n",
    "        self.encoding_type = encoding_type\n",
    "        self.label_encoders = dict()\n",
    "#         self.handle_na = handle_na\n",
    "        \n",
    "        if handle_na==True:\n",
    "            for c in self.categorical_feature:\n",
    "                self.df.loc[:,c] = self.df.loc[:,c].astype(str).fillna('-999999')\n",
    "            \n",
    "    def label_encoding(self):\n",
    "        for c in self.categorical_feature:\n",
    "            lbl = preprocessing.LabelEncoder()\n",
    "            lbl.fit(self.df[c].values)\n",
    "            self.output_df.loc[:,c] = lbl.transform(self.df[c].values)\n",
    "            self.label_encoders = lbl\n",
    "        return self.output_df\n",
    "    def label_binarizer(self):\n",
    "        for c in self.categorical_feature:\n",
    "            lbl = preprocessing.LabelBinarizer()\n",
    "            \n",
    "    \n",
    "    def transform(self):\n",
    "        if self.encoding_type=='label':\n",
    "            return self.label_encoding()\n",
    "        else:\n",
    "            raise Exception(\"Encoding Type not Understood\")\n",
    "            \n",
    "if __name__=='__main__':\n",
    "    import pandas as pd\n",
    "    df = pd.read_csv('F:/Dataset/cat-in-the-dat/train.csv')\n",
    "    cols = [c for c in df.columns if c not in ['id','target']]\n",
    "    print(cols)\n",
    "    categorical_features = categorical(df,\n",
    "                                      categorical_feature=cols,\n",
    "                                      encoding_type='label',\n",
    "                                      handle_na = True)\n",
    "    output_df = categorical_features.transform()\n",
    "    print(output_df.head())"
   ]
  },
  {
   "cell_type": "code",
   "execution_count": null,
   "metadata": {},
   "outputs": [],
   "source": []
  }
 ],
 "metadata": {
  "kernelspec": {
   "display_name": "Python 3",
   "language": "python",
   "name": "python3"
  },
  "language_info": {
   "codemirror_mode": {
    "name": "ipython",
    "version": 3
   },
   "file_extension": ".py",
   "mimetype": "text/x-python",
   "name": "python",
   "nbconvert_exporter": "python",
   "pygments_lexer": "ipython3",
   "version": "3.8.3"
  }
 },
 "nbformat": 4,
 "nbformat_minor": 4
}
